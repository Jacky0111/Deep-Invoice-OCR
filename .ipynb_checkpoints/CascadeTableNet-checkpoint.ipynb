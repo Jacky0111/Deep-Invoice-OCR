{
 "cells": [
  {
   "cell_type": "code",
   "execution_count": 1,
   "metadata": {},
   "outputs": [],
   "source": [
    "import os\n",
    "import cv2\n",
    "import imutils"
   ]
  },
  {
   "cell_type": "code",
   "execution_count": 2,
   "metadata": {},
   "outputs": [],
   "source": [
    "def pre_process_image(img, save_in_file, morph_size=(8, 8)):\n",
    "\n",
    "    # get rid of the color\n",
    "    pre = cv2.cvtColor(img, cv2.COLOR_BGR2GRAY)\n",
    "    # Otsu threshold\n",
    "    pre = cv2.threshold(pre, 250, 255, cv2.THRESH_BINARY | cv2.THRESH_OTSU)[1]\n",
    "    # dilate the text to make it solid spot\n",
    "    cpy = pre.copy()\n",
    "    struct = cv2.getStructuringElement(cv2.MORPH_RECT, morph_size)\n",
    "    cpy = cv2.dilate(~cpy, struct, anchor=(-1, -1), iterations=1)\n",
    "    pre = ~cpy\n",
    "\n",
    "    if save_in_file is not None:\n",
    "        cv2.imwrite(save_in_file, pre)\n",
    "    return pre"
   ]
  },
  {
   "cell_type": "code",
   "execution_count": 3,
   "metadata": {},
   "outputs": [],
   "source": [
    "def find_text_boxes(pre, min_text_height_limit=6, max_text_height_limit=40):\n",
    "    # Looking for the text spots contours\n",
    "    # OpenCV 3\n",
    "    # img, contours, hierarchy = cv2.findContours(pre, cv2.RETR_LIST, cv2.CHAIN_APPROX_SIMPLE)\n",
    "    # OpenCV 4\n",
    "    contours, hierarchy = cv2.findContours(pre, cv2.RETR_LIST, cv2.CHAIN_APPROX_SIMPLE)\n",
    "\n",
    "    # Getting the texts bounding boxes based on the text size assumptions\n",
    "    boxes = []\n",
    "    for contour in contours:\n",
    "        box = cv2.boundingRect(contour)\n",
    "        h = box[3]\n",
    "\n",
    "        if min_text_height_limit < h < max_text_height_limit:\n",
    "            boxes.append(box)\n",
    "\n",
    "    return boxes"
   ]
  },
  {
   "cell_type": "code",
   "execution_count": 4,
   "metadata": {},
   "outputs": [],
   "source": [
    "def find_table_in_boxes(boxes, cell_threshold=10, min_columns=2):\n",
    "    rows = {}\n",
    "    cols = {}\n",
    "\n",
    "    # Clustering the bounding boxes by their positions\n",
    "    for box in boxes:\n",
    "        (x, y, w, h) = box\n",
    "        col_key = x // cell_threshold\n",
    "        row_key = y // cell_threshold\n",
    "        cols[row_key] = [box] if col_key not in cols else cols[col_key] + [box]\n",
    "        rows[row_key] = [box] if row_key not in rows else rows[row_key] + [box]\n",
    "\n",
    "    # Filtering out the clusters having less than 2 cols\n",
    "    table_cells = list(filter(lambda r: len(r) >= min_columns, rows.values()))\n",
    "    # Sorting the row cells by x coord\n",
    "    table_cells = [list(sorted(tb)) for tb in table_cells]\n",
    "    # Sorting rows by the y coord\n",
    "    table_cells = list(sorted(table_cells, key=lambda r: r[0][1]))\n",
    "\n",
    "    return table_cells"
   ]
  },
  {
   "cell_type": "code",
   "execution_count": 5,
   "metadata": {},
   "outputs": [],
   "source": [
    "def build_lines(table_cells):\n",
    "    if table_cells is None or len(table_cells) <= 0:\n",
    "        return [], []\n",
    "\n",
    "    max_last_col_width_row = max(table_cells, key=lambda b: b[-1][2])\n",
    "    max_x = max_last_col_width_row[-1][0] + max_last_col_width_row[-1][2]\n",
    "\n",
    "    max_last_row_height_box = max(table_cells[-1], key=lambda b: b[3])\n",
    "    max_y = max_last_row_height_box[1] + max_last_row_height_box[3]\n",
    "\n",
    "    hor_lines = []\n",
    "    ver_lines = []\n",
    "\n",
    "    for box in table_cells:\n",
    "        x = box[0][0]\n",
    "        y = box[0][1]\n",
    "        hor_lines.append((x, y, max_x, y))\n",
    "\n",
    "    for box in table_cells[0]:\n",
    "        x = box[0]\n",
    "        y = box[1]\n",
    "        ver_lines.append((x, y, x, max_y))\n",
    "\n",
    "    (x, y, w, h) = table_cells[0][-1]\n",
    "    ver_lines.append((max_x, y, max_x, max_y))\n",
    "    (x, y, w, h) = table_cells[0][0]\n",
    "    hor_lines.append((x, max_y, max_x, max_y))\n",
    "\n",
    "    return hor_lines, ver_lines"
   ]
  },
  {
   "cell_type": "code",
   "execution_count": 6,
   "metadata": {},
   "outputs": [
    {
     "ename": "error",
     "evalue": "OpenCV(4.5.2) C:\\Users\\runneradmin\\AppData\\Local\\Temp\\pip-req-build-_8k9tw8n\\opencv\\modules\\imgproc\\src\\color.cpp:182: error: (-215:Assertion failed) !_src.empty() in function 'cv::cvtColor'\n",
     "output_type": "error",
     "traceback": [
      "\u001b[1;31m---------------------------------------------------------------------------\u001b[0m",
      "\u001b[1;31merror\u001b[0m                                     Traceback (most recent call last)",
      "\u001b[1;32m<ipython-input-6-2a34fb5cd7a2>\u001b[0m in \u001b[0;36m<module>\u001b[1;34m\u001b[0m\n\u001b[0;32m      7\u001b[0m     \u001b[0mimg\u001b[0m \u001b[1;33m=\u001b[0m \u001b[0mcv2\u001b[0m\u001b[1;33m.\u001b[0m\u001b[0mimread\u001b[0m\u001b[1;33m(\u001b[0m\u001b[0mos\u001b[0m\u001b[1;33m.\u001b[0m\u001b[0mpath\u001b[0m\u001b[1;33m.\u001b[0m\u001b[0mjoin\u001b[0m\u001b[1;33m(\u001b[0m\u001b[0min_file\u001b[0m\u001b[1;33m)\u001b[0m\u001b[1;33m)\u001b[0m\u001b[1;33m\u001b[0m\u001b[1;33m\u001b[0m\u001b[0m\n\u001b[0;32m      8\u001b[0m \u001b[1;33m\u001b[0m\u001b[0m\n\u001b[1;32m----> 9\u001b[1;33m     \u001b[0mpre_processed\u001b[0m \u001b[1;33m=\u001b[0m \u001b[0mpre_process_image\u001b[0m\u001b[1;33m(\u001b[0m\u001b[0mimg\u001b[0m\u001b[1;33m,\u001b[0m \u001b[0mpre_file\u001b[0m\u001b[1;33m)\u001b[0m\u001b[1;33m\u001b[0m\u001b[1;33m\u001b[0m\u001b[0m\n\u001b[0m\u001b[0;32m     10\u001b[0m     \u001b[0mtext_boxes\u001b[0m \u001b[1;33m=\u001b[0m \u001b[0mfind_text_boxes\u001b[0m\u001b[1;33m(\u001b[0m\u001b[0mpre_processed\u001b[0m\u001b[1;33m)\u001b[0m\u001b[1;33m\u001b[0m\u001b[1;33m\u001b[0m\u001b[0m\n\u001b[0;32m     11\u001b[0m     \u001b[0mcells\u001b[0m \u001b[1;33m=\u001b[0m \u001b[0mfind_table_in_boxes\u001b[0m\u001b[1;33m(\u001b[0m\u001b[0mtext_boxes\u001b[0m\u001b[1;33m)\u001b[0m\u001b[1;33m\u001b[0m\u001b[1;33m\u001b[0m\u001b[0m\n",
      "\u001b[1;32m<ipython-input-2-cc8daebcb50a>\u001b[0m in \u001b[0;36mpre_process_image\u001b[1;34m(img, save_in_file, morph_size)\u001b[0m\n\u001b[0;32m      2\u001b[0m \u001b[1;33m\u001b[0m\u001b[0m\n\u001b[0;32m      3\u001b[0m     \u001b[1;31m# get rid of the color\u001b[0m\u001b[1;33m\u001b[0m\u001b[1;33m\u001b[0m\u001b[1;33m\u001b[0m\u001b[0m\n\u001b[1;32m----> 4\u001b[1;33m     \u001b[0mpre\u001b[0m \u001b[1;33m=\u001b[0m \u001b[0mcv2\u001b[0m\u001b[1;33m.\u001b[0m\u001b[0mcvtColor\u001b[0m\u001b[1;33m(\u001b[0m\u001b[0mimg\u001b[0m\u001b[1;33m,\u001b[0m \u001b[0mcv2\u001b[0m\u001b[1;33m.\u001b[0m\u001b[0mCOLOR_BGR2GRAY\u001b[0m\u001b[1;33m)\u001b[0m\u001b[1;33m\u001b[0m\u001b[1;33m\u001b[0m\u001b[0m\n\u001b[0m\u001b[0;32m      5\u001b[0m     \u001b[1;31m# Otsu threshold\u001b[0m\u001b[1;33m\u001b[0m\u001b[1;33m\u001b[0m\u001b[1;33m\u001b[0m\u001b[0m\n\u001b[0;32m      6\u001b[0m     \u001b[0mpre\u001b[0m \u001b[1;33m=\u001b[0m \u001b[0mcv2\u001b[0m\u001b[1;33m.\u001b[0m\u001b[0mthreshold\u001b[0m\u001b[1;33m(\u001b[0m\u001b[0mpre\u001b[0m\u001b[1;33m,\u001b[0m \u001b[1;36m250\u001b[0m\u001b[1;33m,\u001b[0m \u001b[1;36m255\u001b[0m\u001b[1;33m,\u001b[0m \u001b[0mcv2\u001b[0m\u001b[1;33m.\u001b[0m\u001b[0mTHRESH_BINARY\u001b[0m \u001b[1;33m|\u001b[0m \u001b[0mcv2\u001b[0m\u001b[1;33m.\u001b[0m\u001b[0mTHRESH_OTSU\u001b[0m\u001b[1;33m)\u001b[0m\u001b[1;33m[\u001b[0m\u001b[1;36m1\u001b[0m\u001b[1;33m]\u001b[0m\u001b[1;33m\u001b[0m\u001b[1;33m\u001b[0m\u001b[0m\n",
      "\u001b[1;31merror\u001b[0m: OpenCV(4.5.2) C:\\Users\\runneradmin\\AppData\\Local\\Temp\\pip-req-build-_8k9tw8n\\opencv\\modules\\imgproc\\src\\color.cpp:182: error: (-215:Assertion failed) !_src.empty() in function 'cv::cvtColor'\n"
     ]
    }
   ],
   "source": [
    "if __name__ == \"__main__\":\n",
    "    data_path = os.getcwd()\n",
    "    in_file = os.path.join(data_path, \"page.png\")\n",
    "    pre_file = os.path.join(data_path, \"pre.png\")\n",
    "    out_file = os.path.join(data_path, \"out.png\")\n",
    "\n",
    "    img = cv2.imread(os.path.join(in_file))\n",
    "\n",
    "    pre_processed = pre_process_image(img, pre_file)\n",
    "    text_boxes = find_text_boxes(pre_processed)\n",
    "    cells = find_table_in_boxes(text_boxes)\n",
    "    hor_lines, ver_lines = build_lines(cells)\n",
    "\n",
    "    # Visualize the result\n",
    "    vis = img.copy()\n",
    "\n",
    "    # for box in text_boxes:\n",
    "    #     (x, y, w, h) = box\n",
    "    #     cv2.rectangle(vis, (x, y), (x + w - 2, y + h - 2), (0, 255, 0), 1)\n",
    "\n",
    "    for line in hor_lines:\n",
    "        [x1, y1, x2, y2] = line\n",
    "        cv2.line(vis, (x1, y1), (x2, y2), (0, 0, 255), 1)\n",
    "\n",
    "    for line in ver_lines:\n",
    "        [x1, y1, x2, y2] = line\n",
    "        cv2.line(vis, (x1, y1), (x2, y2), (0, 0, 255), 1)\n",
    "\n",
    "    cv2.imwrite(out_file, vis)"
   ]
  },
  {
   "cell_type": "code",
   "execution_count": null,
   "metadata": {},
   "outputs": [],
   "source": []
  }
 ],
 "metadata": {
  "kernelspec": {
   "display_name": "Python 3",
   "language": "python",
   "name": "python3"
  },
  "language_info": {
   "codemirror_mode": {
    "name": "ipython",
    "version": 3
   },
   "file_extension": ".py",
   "mimetype": "text/x-python",
   "name": "python",
   "nbconvert_exporter": "python",
   "pygments_lexer": "ipython3",
   "version": "3.8.5"
  }
 },
 "nbformat": 4,
 "nbformat_minor": 4
}
